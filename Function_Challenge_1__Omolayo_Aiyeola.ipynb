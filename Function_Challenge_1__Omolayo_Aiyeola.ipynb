{
  "nbformat": 4,
  "nbformat_minor": 0,
  "metadata": {
    "colab": {
      "provenance": [],
      "include_colab_link": true
    },
    "kernelspec": {
      "name": "python3",
      "display_name": "Python 3"
    },
    "language_info": {
      "name": "python"
    }
  },
  "cells": [
    {
      "cell_type": "markdown",
      "metadata": {
        "id": "view-in-github",
        "colab_type": "text"
      },
      "source": [
        "<a href=\"https://colab.research.google.com/github/OmolayoA1/Portfolio-Project/blob/main/Function_Challenge_1__Omolayo_Aiyeola.ipynb\" target=\"_parent\"><img src=\"https://colab.research.google.com/assets/colab-badge.svg\" alt=\"Open In Colab\"/></a>"
      ]
    },
    {
      "cell_type": "markdown",
      "source": [
        "### QUESTION 1\n",
        "\n",
        "Write a python function named `is_palindrome` that takes an argument (a string) checks if the input string is a palindrome. The function should return `True` or `False`\n",
        "\n",
        "`palindrome`: a word is `palindrom` if it reads the same backward. E.g `madam`\n",
        "\n",
        "HINT: use the python `input` function to get an input."
      ],
      "metadata": {
        "id": "ucE_PVEmzazs"
      }
    },
    {
      "cell_type": "code",
      "source": [
        "# SOLUTION\n",
        "\n",
        "def is_palindrome(word):\n",
        "    return word == word[::-1]\n"
      ],
      "metadata": {
        "id": "MqpHqEFS3xtc"
      },
      "execution_count": 2,
      "outputs": []
    },
    {
      "cell_type": "code",
      "source": [
        "print(is_palindrome(\"madam\"))\n",
        "print(is_palindrome(\"hello\"))\n",
        "print(is_palindrome(\"Race car\"))"
      ],
      "metadata": {
        "colab": {
          "base_uri": "https://localhost:8080/"
        },
        "id": "9V-wz-DBvTQR",
        "outputId": "3e409dff-5530-451f-e6b5-b75812adc06e"
      },
      "execution_count": 3,
      "outputs": [
        {
          "output_type": "stream",
          "name": "stdout",
          "text": [
            "True\n",
            "False\n",
            "False\n"
          ]
        }
      ]
    },
    {
      "cell_type": "markdown",
      "source": [
        "### QUESTION 2\n",
        "\n",
        "If a valid email is known to have a mix of characters and numbers and then ends with `@edibrige.ng`, e.g `nnebaba123@edubridge.ng`.\n",
        "<br/>\n",
        "Write a functon named `is_valid_email` that accepts an email as an input argument and then check if the email is valid based on the condition above.\n",
        "\n"
      ],
      "metadata": {
        "id": "E6nd8ZIczixT"
      }
    },
    {
      "cell_type": "code",
      "source": [
        "# SOLUTION\n",
        "\n",
        "def is_valid_email(email):\n",
        "    if email.endswith(\"@edubridge.ng\"):\n",
        "        prefix = email[:-len(\"@edubridge.ng\")]\n",
        "        # Check if the prefix contains both letters and numbers\n",
        "        if any(c.isalpha() for c in prefix) and any(c.isdigit() for c in prefix):\n",
        "            return True\n",
        "    return False"
      ],
      "metadata": {
        "id": "F0jTBpfs2YzM"
      },
      "execution_count": 22,
      "outputs": []
    },
    {
      "cell_type": "code",
      "source": [
        "print(is_valid_email(\"nnebaba123@edubridge.ng\"))\n",
        "print(is_valid_email(\"john@edubridge.ng\"))\n",
        "print(is_valid_email(\"12345@edubridge.ng\"))\n",
        "print(is_valid_email(\"mimi123@gmail.com\"))"
      ],
      "metadata": {
        "colab": {
          "base_uri": "https://localhost:8080/"
        },
        "id": "Sxzi1kkYye8k",
        "outputId": "bdfbbfb2-d14f-4b61-8deb-27afa3c1c80a"
      },
      "execution_count": 23,
      "outputs": [
        {
          "output_type": "stream",
          "name": "stdout",
          "text": [
            "True\n",
            "False\n",
            "False\n",
            "False\n"
          ]
        }
      ]
    },
    {
      "cell_type": "markdown",
      "source": [
        "### QUESTION 3\n",
        "\n",
        "Given a list of numbers that are perfect squares between 1 and 40 `[1, 2, 4, 16, 25, 36]`.\n",
        "<br>\n",
        "Write a python function that accepts an input argument (any number between 1 and 40) and then checks if the number is a perfect square."
      ],
      "metadata": {
        "id": "EgExjLVPzi-Q"
      }
    },
    {
      "cell_type": "code",
      "source": [
        "# SOLUTION\n",
        "import math\n",
        "\n",
        "def is_perfect_square(number):\n",
        "    if 1 <= number <= 40:\n",
        "        sqrt_num = math.sqrt(number)\n",
        "        return sqrt_num.is_integer()\n",
        "    else:\n",
        "        return False"
      ],
      "metadata": {
        "id": "v8dGOkR56rkG"
      },
      "execution_count": 26,
      "outputs": []
    },
    {
      "cell_type": "code",
      "source": [
        "print(is_perfect_square(9))\n",
        "print(is_perfect_square(10))\n",
        "print(is_perfect_square(36))"
      ],
      "metadata": {
        "colab": {
          "base_uri": "https://localhost:8080/"
        },
        "id": "p43kmA2p1sY4",
        "outputId": "71dca70c-2fb3-4835-9b25-996776ca37aa"
      },
      "execution_count": 36,
      "outputs": [
        {
          "output_type": "stream",
          "name": "stdout",
          "text": [
            "True\n",
            "False\n",
            "True\n"
          ]
        }
      ]
    },
    {
      "cell_type": "markdown",
      "source": [
        "### QUESTION 4\n",
        "\n",
        "Given a string, check if an input string is a substring of the given string?\n",
        "<br/><br/>\n",
        "E.g `word = authenticate`\n",
        "<br>Now if a user input the word `the`, We can say that the word `the` is a substring of the word `authenticate` because it's contained in it.\n",
        "\n"
      ],
      "metadata": {
        "id": "WFU5xhYezjGh"
      }
    },
    {
      "cell_type": "code",
      "source": [
        "# SOLUTION\n",
        "def is_substring(word, substring):\n",
        "    return substring in word\n"
      ],
      "metadata": {
        "id": "p2Ajj7I66u8t"
      },
      "execution_count": 37,
      "outputs": []
    },
    {
      "cell_type": "code",
      "source": [
        "print(is_substring(\"authenticate\", \"the\"))\n",
        "print(is_substring(\"authenticate\", \"tu\"))"
      ],
      "metadata": {
        "colab": {
          "base_uri": "https://localhost:8080/"
        },
        "id": "lTIcSpci4xUS",
        "outputId": "bf07c90a-90f5-476b-d1ed-4b86cd662019"
      },
      "execution_count": 39,
      "outputs": [
        {
          "output_type": "stream",
          "name": "stdout",
          "text": [
            "True\n",
            "False\n"
          ]
        }
      ]
    },
    {
      "cell_type": "markdown",
      "source": [
        "### QUESTION 5\n",
        "\n",
        "Write a Python program that takes in a number input. If the number is a multiples of three print `\"Fizz\"` instead of the number and for multiples of five print `\"Buzz\"`. For numbers that are multiples of three and five, print `\"FizzBuzz\"`.\n",
        "\n",
        "**HINT**: *requires type casting for your input.*"
      ],
      "metadata": {
        "id": "zRe7O814zjU9"
      }
    },
    {
      "cell_type": "code",
      "source": [
        "# SOLUTION\n",
        "\n",
        "number_input = input(\"Enter a number: \")\n",
        "\n",
        "try:\n",
        "    number = int(number_input)\n",
        "    if number % 3 == 0 and number % 5 == 0:\n",
        "        print(\"FizzBuzz\")\n",
        "    elif number % 3 == 0:\n",
        "        print(\"Fizz\")\n",
        "    elif number % 5 == 0:\n",
        "        print(\"Buzz\")\n",
        "    else:\n",
        "        print(number)\n",
        "except ValueError:\n",
        "    print(\"Invalid input. Please enter an integer.\")"
      ],
      "metadata": {
        "id": "lvztCP-Z6xqG",
        "colab": {
          "base_uri": "https://localhost:8080/"
        },
        "outputId": "cc2a9708-dc96-4c12-85bf-e81f3f93c7e4"
      },
      "execution_count": 42,
      "outputs": [
        {
          "output_type": "stream",
          "name": "stdout",
          "text": [
            "Enter a number: 15\n",
            "FizzBuzz\n"
          ]
        }
      ]
    },
    {
      "cell_type": "markdown",
      "source": [
        "### QUESTION 6\n",
        "\n",
        "Given a year input, Is the year a leap year?\n",
        "\n",
        "Reference: in the Gregorian calendar, each leap year has 366 days instead of 365, by extending February to 29 days rather than the common 28. This extra leap day occurs in each year that is an integer multiple of `4` (except for years evenly divisible by `100`, but not by `400`). A leap year of 366 days has 52 weeks and two days, hence the year following a leap year will start later by two days of the week."
      ],
      "metadata": {
        "id": "bUWNERA_zjgI"
      }
    },
    {
      "cell_type": "code",
      "source": [
        "# SOLUTION\n",
        "\n",
        "is_leap_year = lambda year: (year % 4 == 0 and year % 100 != 0) or (year % 400 == 0)\n",
        "\n",
        "year = int(input(\"Enter a year: \"))\n",
        "if is_leap_year(year):\n",
        "    print(f\"{year} is a leap year.\")\n",
        "else:\n",
        "    print(f\"{year} is not a leap year.\")\n"
      ],
      "metadata": {
        "id": "HYVZhb9Q7A6E",
        "colab": {
          "base_uri": "https://localhost:8080/"
        },
        "outputId": "d1860c25-112c-4f9f-ca32-042f57557933"
      },
      "execution_count": 44,
      "outputs": [
        {
          "output_type": "stream",
          "name": "stdout",
          "text": [
            "Enter a year: 2023\n",
            "2023 is not a leap year.\n"
          ]
        }
      ]
    },
    {
      "cell_type": "markdown",
      "source": [
        "### QUESTION 7\n",
        "\n",
        "Write a program that prints:\n",
        "<br/>\n",
        "`\"Fail\"` if an input score is less than 45  or<br/> `\"Pass\"` if the score is between (45 and 50), or <br/>`\"Good\"` if it is between (51 and 60)\n",
        "<br/>`\"Very Good\"` if it is between (61 and 70) else <br/>`\"Excellent\"` if the number greater than 70."
      ],
      "metadata": {
        "id": "03oqByaSzj1b"
      }
    },
    {
      "cell_type": "code",
      "source": [
        "# SOLUTION\n",
        "score = int(input(\"Enter your score: \"))\n",
        "if score < 45:\n",
        "    print(\"Fail\")\n",
        "elif 45 <= score <= 50:\n",
        "    print(\"Pass\")\n",
        "elif 51 <= score <= 60:\n",
        "    print(\"Good\")\n",
        "elif 61 <= score <= 70:\n",
        "    print(\"Very Good\")\n",
        "else:\n",
        "    print(\"Excellent\")"
      ],
      "metadata": {
        "id": "VUmcOZXQ7Dj_",
        "colab": {
          "base_uri": "https://localhost:8080/"
        },
        "outputId": "8b68fec1-4921-436a-b254-9417b022e25e"
      },
      "execution_count": 45,
      "outputs": [
        {
          "output_type": "stream",
          "name": "stdout",
          "text": [
            "Enter your score: 62\n",
            "Very Good\n"
          ]
        }
      ]
    },
    {
      "cell_type": "markdown",
      "source": [
        "### QUESTION 8\n",
        "\n",
        "Given two different list below, Convert them to a dictionary:<br/>\n",
        "`keys = ['Ten', 'Twenty', 'Thirty']`\n",
        "`values = [10, 20, 30]`\n",
        "<br/> <br/>Expected output is: `{'Ten': 10, 'Twenty': 20, 'Thirty': 30}`\n",
        "<br/><br/>**HINT**: use the python `zip` function and then cast the result of the function to accomplish your desired output. You can check `help(zip)`"
      ],
      "metadata": {
        "id": "9W92m74azj-C"
      }
    },
    {
      "cell_type": "code",
      "source": [
        "# SOLUTION\n",
        "keys = ['Ten', 'Twenty', 'Thirty']\n",
        "values = [10, 20, 30]\n",
        "zip(keys, values)\n",
        "dict(zip(keys, values))"
      ],
      "metadata": {
        "id": "mSGZS6Jk7FwE",
        "colab": {
          "base_uri": "https://localhost:8080/"
        },
        "outputId": "d817f220-917e-48d5-ac6f-4e7fe4365086"
      },
      "execution_count": 47,
      "outputs": [
        {
          "output_type": "execute_result",
          "data": {
            "text/plain": [
              "{'Ten': 10, 'Twenty': 20, 'Thirty': 30}"
            ]
          },
          "metadata": {},
          "execution_count": 47
        }
      ]
    },
    {
      "cell_type": "markdown",
      "source": [
        "### QUESTION 9\n",
        "\n",
        "Merge the two Python dictionaries below\n",
        "<br/>`dict1 = {'Ten': 10, 'Twenty': 20, 'Thirty': 30}`<br/>\n",
        "`dict2 = {'Thirty': 30, 'Fourty': 40, 'Fifty': 50}`\n",
        "<br/>Expected output is: `{'Ten': 10, 'Twenty': 20, 'Thirty': 30, 'Fourty': 40, 'Fifty': 50}`\n",
        "\n",
        "<br/><br/>**HINT**: you can check `help(dict)` to identify dict method that will help you achieve solution to the problem."
      ],
      "metadata": {
        "id": "rD-5381wzkFz"
      }
    },
    {
      "cell_type": "code",
      "source": [
        "# SOLUTION\n",
        "dict1 = {'Ten': 10, 'Twenty': 20, 'Thirty': 30}\n",
        "dict2 = {'Thirty': 30, 'Fourty': 40, 'Fifty': 50}\n",
        "dict1.update(dict2)\n",
        "print(dict1)"
      ],
      "metadata": {
        "id": "P7bsV-C37IJr",
        "colab": {
          "base_uri": "https://localhost:8080/"
        },
        "outputId": "b6c8fca0-5d46-4f76-bdfd-6e579f6d13b6"
      },
      "execution_count": 51,
      "outputs": [
        {
          "output_type": "stream",
          "name": "stdout",
          "text": [
            "{'Ten': 10, 'Twenty': 20, 'Thirty': 30, 'Fourty': 40, 'Fifty': 50}\n"
          ]
        }
      ]
    },
    {
      "cell_type": "markdown",
      "source": [
        "### QUESTION 10\n",
        "Print out all the keys from the given dictionary `sample_dict = {'a': 100, 'b': 200, 'c': 300}` as a list.\n",
        "<br>\n",
        "Expected Output: `['a', 'b', 'c']`"
      ],
      "metadata": {
        "id": "tujWJvlxzkNQ"
      }
    },
    {
      "cell_type": "code",
      "source": [
        "# SOLUTION\n",
        "sample_dict = {'a': 100, 'b': 200, 'c': 300}\n",
        "print(list(sample_dict.keys()))"
      ],
      "metadata": {
        "id": "GT5fPhTs7KTC",
        "colab": {
          "base_uri": "https://localhost:8080/"
        },
        "outputId": "c6d166ca-1df3-4f87-b8a8-e0f8e12eff57"
      },
      "execution_count": 52,
      "outputs": [
        {
          "output_type": "stream",
          "name": "stdout",
          "text": [
            "['a', 'b', 'c']\n"
          ]
        }
      ]
    },
    {
      "cell_type": "markdown",
      "source": [
        "### QUESTION 11\n",
        "\n",
        "Print out all the values from a givsen dictionary\n",
        "`sample_dict = {'a': 100, 'b': 200, 'c': 300}` as a list.\n",
        "<br>\n",
        "Expected Output: `[100, 200, 300]`"
      ],
      "metadata": {
        "id": "zu7Lb3GfQZwC"
      }
    },
    {
      "cell_type": "code",
      "execution_count": 53,
      "metadata": {
        "id": "FOh0lrewzV3L",
        "colab": {
          "base_uri": "https://localhost:8080/"
        },
        "outputId": "9164e7ef-8955-4f72-965c-b807a66f24ba"
      },
      "outputs": [
        {
          "output_type": "stream",
          "name": "stdout",
          "text": [
            "[100, 200, 300]\n"
          ]
        }
      ],
      "source": [
        "# SOLUTION\n",
        "sample_dict = {'a': 100, 'b': 200, 'c': 300}\n",
        "print(list(sample_dict.values()))"
      ]
    },
    {
      "cell_type": "markdown",
      "source": [
        "### QUESTION 12\n",
        "\n",
        "Given: `sample_dict = {'a': 100, 'b': 200, 'c': 300}`. Ask a user for an input. If the input is a value present in the `sample_dict` dictionary, print the number with some text.\n",
        "E.g, if input is `200`,<br>\n",
        "Expected output: `200 is a value present in the dicitonary.`"
      ],
      "metadata": {
        "id": "fm_7DyH4Q6Ab"
      }
    },
    {
      "cell_type": "code",
      "source": [
        "# SOLUTION\n",
        "sample_dict = {'a': 100, 'b': 200, 'c': 300}\n",
        "user_input = int(input(\"Enter a value: \"))\n",
        "if user_input in sample_dict.values():\n",
        "    print(f\"{user_input} is a value present in the dictionary.\")\n",
        "else:\n",
        "    print(f\"{user_input} is not a value present in the dictionary.\")"
      ],
      "metadata": {
        "id": "FWFvwNLWQ5N8",
        "colab": {
          "base_uri": "https://localhost:8080/"
        },
        "outputId": "d1cdd315-46c7-431d-f58b-bde43eef7239"
      },
      "execution_count": 57,
      "outputs": [
        {
          "output_type": "stream",
          "name": "stdout",
          "text": [
            "Enter a value: 100\n",
            "100 is a value present in the dictionary.\n"
          ]
        }
      ]
    },
    {
      "cell_type": "markdown",
      "source": [
        "### QUESTION 13\n",
        "\n",
        "Get the key of a minimum value from the following dictionary\n",
        "`sample_dict = {'Physics': 82, 'Math': 65 'history': 75}`\n",
        "\n",
        "<br>Expected Output: `Math`"
      ],
      "metadata": {
        "id": "beLkIUOhR29y"
      }
    },
    {
      "cell_type": "code",
      "source": [
        "# SOLUTION\n",
        "sample_dict = {'Physics': 82, 'Math': 65, 'History': 75}\n",
        "min_value = min(sample_dict.values())\n",
        "min_key = [key for key, value in sample_dict.items() if value == min_value]\n",
        "print(min_key[0])"
      ],
      "metadata": {
        "id": "BzQwuqHQR1DP",
        "colab": {
          "base_uri": "https://localhost:8080/"
        },
        "outputId": "332521bd-c931-4046-f98d-60cf7306d8ae"
      },
      "execution_count": 58,
      "outputs": [
        {
          "output_type": "stream",
          "name": "stdout",
          "text": [
            "Math\n"
          ]
        }
      ]
    },
    {
      "cell_type": "markdown",
      "source": [
        "### QUESTION 14\n",
        "\n",
        "Write a program to rename a key city to a location in the following dictionary.\n",
        "<BR>\n",
        "Given: `sample_dict = {\"name\": \"Kelly\", \"age\":25, \"salary\": 8000, \"city\": \"New york\"}`\n",
        "\n",
        "<br>Expected Output: `{'name': 'Kelly', 'age': 25, 'salary': 8000, 'location': 'New york'}`"
      ],
      "metadata": {
        "id": "pztPTTjRS-Xb"
      }
    },
    {
      "cell_type": "code",
      "source": [
        "# SOLUTION\n",
        "sample_dict = {\"name\": \"Kelly\", \"age\": 25, \"salary\": 8000, \"city\": \"New york\"}\n",
        "sample_dict[\"location\"] = sample_dict.pop(\"city\")\n",
        "print(sample_dict)"
      ],
      "metadata": {
        "colab": {
          "base_uri": "https://localhost:8080/"
        },
        "id": "3oT7Lqv5S67R",
        "outputId": "24f11914-986f-42ee-cd35-27c973bac345"
      },
      "execution_count": 59,
      "outputs": [
        {
          "output_type": "stream",
          "name": "stdout",
          "text": [
            "{'name': 'Kelly', 'age': 25, 'salary': 8000, 'location': 'New york'}\n"
          ]
        }
      ]
    },
    {
      "cell_type": "markdown",
      "source": [
        "### QUESTION 15\n",
        "\n",
        "Write a program to unpack the following tuple into four variables and display each variable.\n",
        "<br>\n",
        "Given: `tuple1 = (10, 20, 30, 40)`\n",
        "<br/>Expected output:\n",
        ">> print(a) # should print 10 <br/>\n",
        ">> print(b) # should print 20 <br/>\n",
        ">> print(c) # should print 30 <br/>\n",
        ">> print(d) # should print 40 <br/>\n",
        "\n"
      ],
      "metadata": {
        "id": "Tzuz63jvTHK6"
      }
    },
    {
      "cell_type": "code",
      "source": [
        "# SOLUTION\n",
        "tuple1 = (10, 20, 30, 40)\n",
        "a, b, c, d = tuple1\n",
        "print(a)\n",
        "print(b)\n",
        "print(c)\n",
        "print(d)"
      ],
      "metadata": {
        "id": "XBdgWQQbU_nG",
        "colab": {
          "base_uri": "https://localhost:8080/"
        },
        "outputId": "d7f25689-fa33-4d10-db16-ddb7019ed233"
      },
      "execution_count": 60,
      "outputs": [
        {
          "output_type": "stream",
          "name": "stdout",
          "text": [
            "10\n",
            "20\n",
            "30\n",
            "40\n"
          ]
        }
      ]
    },
    {
      "cell_type": "markdown",
      "source": [
        "### QUESTION 16\n",
        "\n",
        "Swap two tuples in Python\n",
        "Given: <br>`tuple1 = (11, 22)`, <br>`tuple2 = (99, 88)`\n",
        "\n",
        "Expected Output: <br>`tuple1: (99, 88)`\n",
        "<br>`tuple2: (11, 22)`\n"
      ],
      "metadata": {
        "id": "fTBkgL-URABj"
      }
    },
    {
      "cell_type": "code",
      "source": [
        "# SOLUTION\n",
        "tuple1 = (11, 22)\n",
        "tuple2 = (99, 88)\n",
        "tuple1, tuple2 = tuple2, tuple1\n",
        "print(\"tuple1:\", tuple1)\n",
        "print(\"tuple2:\", tuple2)"
      ],
      "metadata": {
        "id": "APP_aVq8Ve9j",
        "colab": {
          "base_uri": "https://localhost:8080/"
        },
        "outputId": "49265bdc-4e37-44d9-bdad-521a226c31cc"
      },
      "execution_count": 61,
      "outputs": [
        {
          "output_type": "stream",
          "name": "stdout",
          "text": [
            "tuple1: (99, 88)\n",
            "tuple2: (11, 22)\n"
          ]
        }
      ]
    },
    {
      "cell_type": "markdown",
      "source": [
        "### QUESTION 17\n",
        "\n",
        "Sort a tuple of tuples by 2nd item\n",
        "<BR>\n",
        "Given:tuple1 = `(('a', 23),('b', 37),('c', 11), ('d',29))`\n",
        "\n",
        "<BR>Expected output: `(('c', 11), ('a', 23), ('d', 29), ('b', 37))`"
      ],
      "metadata": {
        "id": "sqUCmE-mWQi9"
      }
    },
    {
      "cell_type": "code",
      "source": [
        "# SOLUTION\n",
        "tuple1 = (('a', 23), ('b', 37), ('c', 11), ('d', 29))\n",
        "sorted_tuple = tuple(sorted(tuple1, key=lambda x: x[1]))\n",
        "print(sorted_tuple)"
      ],
      "metadata": {
        "id": "ICYx637TWPWk",
        "colab": {
          "base_uri": "https://localhost:8080/"
        },
        "outputId": "06f65efc-f9da-41f8-8739-d7b836a00f4b"
      },
      "execution_count": 62,
      "outputs": [
        {
          "output_type": "stream",
          "name": "stdout",
          "text": [
            "(('c', 11), ('a', 23), ('d', 29), ('b', 37))\n"
          ]
        }
      ]
    },
    {
      "cell_type": "markdown",
      "source": [
        "### QUESTION 18\n",
        "\n",
        "print a new set of identical items from two sets\n",
        "Given:<BR>\n",
        "`set1 = {10, 20, 30, 40, 50}`<BR>\n",
        "`set2 = {30, 40, 50, 60, 70}`\n",
        "<BR>Expected output: `{40, 50, 30}`\n",
        "\n",
        "**HINT**: *set method will do the workings for you.*"
      ],
      "metadata": {
        "id": "yOpkUhE8XIAm"
      }
    },
    {
      "cell_type": "code",
      "source": [
        "# SOLUTION\n",
        "set1 = {10, 20, 30, 40, 50}\n",
        "set2 = {30, 40, 50, 60, 70}\n",
        "print(set1.intersection(set2))"
      ],
      "metadata": {
        "id": "71K0QmRMXHGy",
        "colab": {
          "base_uri": "https://localhost:8080/"
        },
        "outputId": "647e27fc-2d34-4b4c-c893-31a20463c7cf"
      },
      "execution_count": 63,
      "outputs": [
        {
          "output_type": "stream",
          "name": "stdout",
          "text": [
            "{40, 50, 30}\n"
          ]
        }
      ]
    },
    {
      "cell_type": "markdown",
      "source": [
        "**COMMENT:** Great"
      ],
      "metadata": {
        "id": "ecK1rgj_QRkY"
      }
    },
    {
      "cell_type": "markdown",
      "source": [
        "### QUESTION 19\n",
        "\n",
        "Given two Python sets, write a Python program to update the first set with items that exist only in the first set and not in the second set.\n",
        "\n",
        "<BR>Given:\n",
        "<BR>\n",
        "`set1 = {10, 20, 30}`<BR>\n",
        "`set2 = {20, 40, 50}`<BR>\n",
        "Expected output: `set1 {10, 30}`\n",
        "\n",
        "**HINT**: *set method will do the workings for you.*"
      ],
      "metadata": {
        "id": "lS3Is27FY0Cw"
      }
    },
    {
      "cell_type": "code",
      "source": [
        "# SOLUTION\n",
        "set1 = {10, 20, 30}\n",
        "set2 = {20, 40, 50}\n",
        "set1.difference_update(set2)\n",
        "print(set1)"
      ],
      "metadata": {
        "id": "tl4MVvSlYy76",
        "colab": {
          "base_uri": "https://localhost:8080/"
        },
        "outputId": "4aed7716-059d-44fa-bf9a-59eda912a3e2"
      },
      "execution_count": 64,
      "outputs": [
        {
          "output_type": "stream",
          "name": "stdout",
          "text": [
            "{10, 30}\n"
          ]
        }
      ]
    },
    {
      "cell_type": "markdown",
      "source": [
        "**COMMENT:** Great"
      ],
      "metadata": {
        "id": "Csw0EX4FQXbV"
      }
    },
    {
      "cell_type": "markdown",
      "source": [
        "### QUESTION 20\n",
        "\n",
        "Check if two sets have any elements in common. If yes, display the common elements\n",
        "\n",
        "Given:\n",
        "\n",
        "`set1 = {10, 20, 30, 40, 50}`\n",
        "\n",
        "`set2 = {60, 70, 80, 90, 10}`\n",
        "\n",
        "Expected output: `{10}`\n",
        "\n",
        "**HINT**: *set method and conditional statement will do the workings for you.*"
      ],
      "metadata": {
        "id": "jTdw5ITfbCrr"
      }
    },
    {
      "cell_type": "code",
      "source": [
        "# SOLUTION\n",
        "set1 = {10, 20, 30, 40, 50}\n",
        "set2 = {60, 70, 80, 90, 10}\n",
        "print(set1.intersection(set2))"
      ],
      "metadata": {
        "id": "XX-AE9QibBfn",
        "colab": {
          "base_uri": "https://localhost:8080/"
        },
        "outputId": "85269fb9-3d4f-4ad2-b3cc-9d45b479845d"
      },
      "execution_count": 67,
      "outputs": [
        {
          "output_type": "stream",
          "name": "stdout",
          "text": [
            "{10}\n"
          ]
        }
      ]
    }
  ]
}